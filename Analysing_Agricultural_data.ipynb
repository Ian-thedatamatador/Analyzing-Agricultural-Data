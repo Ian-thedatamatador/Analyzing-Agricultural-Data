{
 "cells": [
  {
   "cell_type": "code",
   "execution_count": 39,
   "id": "7a2655b9-b32b-4c05-8c67-c625e769df86",
   "metadata": {
    "tags": []
   },
   "outputs": [],
   "source": [
    "#Importing Packages\n",
    "\n",
    "import pandas as pd\n",
    "import numpy as np"
   ]
  },
  {
   "cell_type": "code",
   "execution_count": 40,
   "id": "76750a19-16f5-4f7f-8d9a-1eb9f638e064",
   "metadata": {
    "tags": []
   },
   "outputs": [],
   "source": [
    "# Loading the dataset\n",
    "\n",
    "Agrics_df = pd.read_csv(\"C:/Users/user/Downloads/MD_agric_exam-4313.csv\")"
   ]
  },
  {
   "cell_type": "code",
   "execution_count": 41,
   "id": "02370826-ff6a-4b74-98b8-0116e405deae",
   "metadata": {
    "tags": []
   },
   "outputs": [
    {
     "data": {
      "text/html": [
       "<div>\n",
       "<style scoped>\n",
       "    .dataframe tbody tr th:only-of-type {\n",
       "        vertical-align: middle;\n",
       "    }\n",
       "\n",
       "    .dataframe tbody tr th {\n",
       "        vertical-align: top;\n",
       "    }\n",
       "\n",
       "    .dataframe thead th {\n",
       "        text-align: right;\n",
       "    }\n",
       "</style>\n",
       "<table border=\"1\" class=\"dataframe\">\n",
       "  <thead>\n",
       "    <tr style=\"text-align: right;\">\n",
       "      <th></th>\n",
       "      <th>Field_ID</th>\n",
       "      <th>Elevation</th>\n",
       "      <th>Rainfall</th>\n",
       "      <th>Min_temperature_C</th>\n",
       "      <th>Max_temperature_C</th>\n",
       "      <th>pH</th>\n",
       "      <th>Pollution_level</th>\n",
       "      <th>Plot_size</th>\n",
       "      <th>Annual_yield</th>\n",
       "      <th>Crop_type</th>\n",
       "    </tr>\n",
       "  </thead>\n",
       "  <tbody>\n",
       "    <tr>\n",
       "      <th>0</th>\n",
       "      <td>1162</td>\n",
       "      <td>494.95615</td>\n",
       "      <td>1507.6</td>\n",
       "      <td>-5.4</td>\n",
       "      <td>31.0</td>\n",
       "      <td>6.859436</td>\n",
       "      <td>0.007034</td>\n",
       "      <td>3.6</td>\n",
       "      <td>1.617421</td>\n",
       "      <td>coffee</td>\n",
       "    </tr>\n",
       "    <tr>\n",
       "      <th>1</th>\n",
       "      <td>5108</td>\n",
       "      <td>663.73390</td>\n",
       "      <td>581.0</td>\n",
       "      <td>-4.7</td>\n",
       "      <td>30.9</td>\n",
       "      <td>5.603219</td>\n",
       "      <td>0.289643</td>\n",
       "      <td>4.2</td>\n",
       "      <td>2.532497</td>\n",
       "      <td>potato</td>\n",
       "    </tr>\n",
       "    <tr>\n",
       "      <th>2</th>\n",
       "      <td>3504</td>\n",
       "      <td>396.87990</td>\n",
       "      <td>1715.1</td>\n",
       "      <td>-6.1</td>\n",
       "      <td>31.7</td>\n",
       "      <td>5.774116</td>\n",
       "      <td>0.000409</td>\n",
       "      <td>2.6</td>\n",
       "      <td>1.262207</td>\n",
       "      <td>banana</td>\n",
       "    </tr>\n",
       "    <tr>\n",
       "      <th>3</th>\n",
       "      <td>5351</td>\n",
       "      <td>594.80370</td>\n",
       "      <td>1748.0</td>\n",
       "      <td>-4.3</td>\n",
       "      <td>33.6</td>\n",
       "      <td>6.477415</td>\n",
       "      <td>0.088777</td>\n",
       "      <td>7.9</td>\n",
       "      <td>4.351564</td>\n",
       "      <td>wheat</td>\n",
       "    </tr>\n",
       "    <tr>\n",
       "      <th>4</th>\n",
       "      <td>905</td>\n",
       "      <td>609.49800</td>\n",
       "      <td>1395.8</td>\n",
       "      <td>-4.5</td>\n",
       "      <td>31.3</td>\n",
       "      <td>5.419586</td>\n",
       "      <td>0.050023</td>\n",
       "      <td>10.8</td>\n",
       "      <td>5.034791</td>\n",
       "      <td>cassava</td>\n",
       "    </tr>\n",
       "  </tbody>\n",
       "</table>\n",
       "</div>"
      ],
      "text/plain": [
       "   Field_ID  Elevation  Rainfall  Min_temperature_C  Max_temperature_C  \\\n",
       "0      1162  494.95615    1507.6               -5.4               31.0   \n",
       "1      5108  663.73390     581.0               -4.7               30.9   \n",
       "2      3504  396.87990    1715.1               -6.1               31.7   \n",
       "3      5351  594.80370    1748.0               -4.3               33.6   \n",
       "4       905  609.49800    1395.8               -4.5               31.3   \n",
       "\n",
       "         pH  Pollution_level  Plot_size  Annual_yield Crop_type  \n",
       "0  6.859436         0.007034        3.6      1.617421    coffee  \n",
       "1  5.603219         0.289643        4.2      2.532497    potato  \n",
       "2  5.774116         0.000409        2.6      1.262207    banana  \n",
       "3  6.477415         0.088777        7.9      4.351564     wheat  \n",
       "4  5.419586         0.050023       10.8      5.034791   cassava  "
      ]
     },
     "execution_count": 41,
     "metadata": {},
     "output_type": "execute_result"
    }
   ],
   "source": [
    "# Checking the first 5 rows of the dataset\n",
    "\n",
    "Agrics_df.head()"
   ]
  },
  {
   "cell_type": "code",
   "execution_count": 42,
   "id": "bcfe49ea-acfc-4f91-b8ab-f0a631179775",
   "metadata": {
    "tags": []
   },
   "outputs": [
    {
     "name": "stdout",
     "output_type": "stream",
     "text": [
      "['coffee' 'potato' 'banana' 'wheat' 'cassava' 'maize' 'tea' 'rice']\n"
     ]
    }
   ],
   "source": [
    "# Checks for unique crop types\n",
    "\n",
    "unique_crop_type = Agrics_df['Crop_type'].unique()\n",
    "\n",
    "print (unique_crop_type)"
   ]
  },
  {
   "cell_type": "code",
   "execution_count": 43,
   "id": "09af9bf3-0dbf-4d86-a57b-d3aaf6a01cf9",
   "metadata": {
    "tags": []
   },
   "outputs": [
    {
     "name": "stdout",
     "output_type": "stream",
     "text": [
      "8\n"
     ]
    }
   ],
   "source": [
    "# Checking for the number of unique crop types in the dataset\n",
    "\n",
    "unique_crop_type = Agrics_df['Crop_type'].unique()\n",
    "number_unique_crops  = len(unique_crop_type)\n",
    "\n",
    "print (number_unique_crops)"
   ]
  },
  {
   "cell_type": "code",
   "execution_count": 44,
   "id": "8e08e4ed-78a0-4b68-bfae-fe53b3ad99ee",
   "metadata": {
    "tags": []
   },
   "outputs": [
    {
     "name": "stdout",
     "output_type": "stream",
     "text": [
      "8.99\n"
     ]
    }
   ],
   "source": [
    "# Maximum number of yield for 'wheat' crop type\n",
    "\n",
    "wheat_df = Agrics_df[Agrics_df['Crop_type']== 'wheat']\n",
    "\n",
    "max_yield_wheat = round(wheat_df['Annual_yield'].max(),2)\n",
    "\n",
    "print (max_yield_wheat)"
   ]
  },
  {
   "cell_type": "code",
   "execution_count": 45,
   "id": "2edc331c-0fde-4c4d-ab98-941a2a06c3dc",
   "metadata": {
    "tags": []
   },
   "outputs": [
    {
     "name": "stdout",
     "output_type": "stream",
     "text": [
      " Total rainfall for crop types with the average pollution level of above 0.2 : 478902.6\n"
     ]
    }
   ],
   "source": [
    "# Total rainfall for crop types where the average pollution level is above 0.2\n",
    "\n",
    "pollution_level = Agrics_df[Agrics_df['Pollution_level'] > 0.2]  # Filter the dataframe for rows where pollution level is > 0.2\n",
    "\n",
    "total_rainfal_by_crop = pollution_level.groupby('Crop_type')['Rainfall'].sum() # Grouping by crop types and sum of rainfall for each crop\n",
    "\n",
    "print (f' Total rainfall for crop types with the average pollution level of above 0.2 : {total_rainfal_by_crop.sum()}')"
   ]
  },
  {
   "cell_type": "code",
   "execution_count": 46,
   "id": "4fd6ea6a-a766-49fb-bc02-5e4f517ef64a",
   "metadata": {
    "tags": []
   },
   "outputs": [
    {
     "name": "stdout",
     "output_type": "stream",
     "text": [
      "Temperature range for field ID 1458: 40.70 degrees Celsius\n",
      "Temperature range for field ID 1895: 35.70 degrees Celsius\n",
      "Temperature range for field ID 5443: 33.40 degrees Celsius\n"
     ]
    }
   ],
   "source": [
    "# Function to calculate the temperature range (Max_temperature_C - Min_temperature_C) for each farmer's field.\n",
    "\n",
    "def temp_range(field_id):\n",
    "  \"\"\"\n",
    "  Calculates the temperature range for a specific field ID.\n",
    "\n",
    "  Args:\n",
    "      field_id (int): The ID of the field.\n",
    "\n",
    "  Returns:\n",
    "      float: The temperature range (Max_temperature_C - Min_temperature_C) for the field.\n",
    "  \"\"\"\n",
    "\n",
    "  # Filter data for the specific field\n",
    "  field_data = Agrics_df[Agrics_df['Field_ID'] == field_id]\n",
    "\n",
    "  # Calculate max and min temperatures for the specific field\n",
    "  max_temp = field_data['Max_temperature_C'].max()\n",
    "  min_temp = field_data['Min_temperature_C'].min()\n",
    "\n",
    "  # Calculate and return the temperature range\n",
    "  return max_temp - min_temp\n",
    "\n",
    "# Calling the function with different field IDs\n",
    "field_ids = [1458, 1895, 5443]\n",
    "for field_id in field_ids:\n",
    "  range = temp_range(field_id)\n",
    "  print(f\"Temperature range for field ID {field_id}: {range:.2f} degrees Celsius\")"
   ]
  },
  {
   "cell_type": "code",
   "execution_count": 47,
   "id": "aa1427db-05a2-455c-ae27-e3375457d824",
   "metadata": {
    "tags": []
   },
   "outputs": [
    {
     "name": "stdout",
     "output_type": "stream",
     "text": [
      "Object `achieve` not found.\n",
      "rice\n"
     ]
    }
   ],
   "source": [
    "What does the following code achieve?\n",
    "\n",
    "a = Agrics_df['Crop_type'].unique()\n",
    "\n",
    "b = float('inf')\n",
    "\n",
    "c = ''\n",
    "\n",
    "for crop in a:\n",
    "\n",
    "    d = Agrics_df[Agrics_df['Crop_type'] == crop]['Min_temperature_C'].mean()\n",
    "\n",
    "    if d < b:\n",
    "\n",
    "        b = d\n",
    "\n",
    "        c = crop\n",
    "\n",
    "print(c)\n",
    "\n",
    "#Identifies the minimum temperature for each crop type.\n",
    "#Identifies the crop type with the lowest average minimum temperature.\n",
    "#Identifies the crop type with the highest average minimum temperature\n",
    "#Sorts crops_types from the average lowest to highest minimum temperatures."
   ]
  },
  {
   "cell_type": "code",
   "execution_count": 48,
   "id": "7f0afa19-25c8-4a92-9cca-02d9e3957278",
   "metadata": {
    "tags": []
   },
   "outputs": [
    {
     "data": {
      "text/html": [
       "<div>\n",
       "<style scoped>\n",
       "    .dataframe tbody tr th:only-of-type {\n",
       "        vertical-align: middle;\n",
       "    }\n",
       "\n",
       "    .dataframe tbody tr th {\n",
       "        vertical-align: top;\n",
       "    }\n",
       "\n",
       "    .dataframe thead th {\n",
       "        text-align: right;\n",
       "    }\n",
       "</style>\n",
       "<table border=\"1\" class=\"dataframe\">\n",
       "  <thead>\n",
       "    <tr style=\"text-align: right;\">\n",
       "      <th></th>\n",
       "      <th>Field_ID</th>\n",
       "      <th>Elevation</th>\n",
       "      <th>Rainfall</th>\n",
       "      <th>Min_temperature_C</th>\n",
       "      <th>Max_temperature_C</th>\n",
       "      <th>pH</th>\n",
       "      <th>Pollution_level</th>\n",
       "      <th>Plot_size</th>\n",
       "      <th>Annual_yield</th>\n",
       "      <th>Crop_type</th>\n",
       "    </tr>\n",
       "  </thead>\n",
       "  <tbody>\n",
       "    <tr>\n",
       "      <th>0</th>\n",
       "      <td>1162</td>\n",
       "      <td>494.95615</td>\n",
       "      <td>1507.6</td>\n",
       "      <td>-5.4</td>\n",
       "      <td>31.0</td>\n",
       "      <td>6.859436</td>\n",
       "      <td>0.007034</td>\n",
       "      <td>3.6</td>\n",
       "      <td>1.617421</td>\n",
       "      <td>coffee</td>\n",
       "    </tr>\n",
       "    <tr>\n",
       "      <th>1</th>\n",
       "      <td>5108</td>\n",
       "      <td>663.73390</td>\n",
       "      <td>581.0</td>\n",
       "      <td>-4.7</td>\n",
       "      <td>30.9</td>\n",
       "      <td>5.603219</td>\n",
       "      <td>0.289643</td>\n",
       "      <td>4.2</td>\n",
       "      <td>2.532497</td>\n",
       "      <td>potato</td>\n",
       "    </tr>\n",
       "    <tr>\n",
       "      <th>2</th>\n",
       "      <td>3504</td>\n",
       "      <td>396.87990</td>\n",
       "      <td>1715.1</td>\n",
       "      <td>-6.1</td>\n",
       "      <td>31.7</td>\n",
       "      <td>5.774116</td>\n",
       "      <td>0.000409</td>\n",
       "      <td>2.6</td>\n",
       "      <td>1.262207</td>\n",
       "      <td>banana</td>\n",
       "    </tr>\n",
       "    <tr>\n",
       "      <th>3</th>\n",
       "      <td>5351</td>\n",
       "      <td>594.80370</td>\n",
       "      <td>1748.0</td>\n",
       "      <td>-4.3</td>\n",
       "      <td>33.6</td>\n",
       "      <td>6.477415</td>\n",
       "      <td>0.088777</td>\n",
       "      <td>7.9</td>\n",
       "      <td>4.351564</td>\n",
       "      <td>wheat</td>\n",
       "    </tr>\n",
       "    <tr>\n",
       "      <th>4</th>\n",
       "      <td>905</td>\n",
       "      <td>609.49800</td>\n",
       "      <td>1395.8</td>\n",
       "      <td>-4.5</td>\n",
       "      <td>31.3</td>\n",
       "      <td>5.419586</td>\n",
       "      <td>0.050023</td>\n",
       "      <td>10.8</td>\n",
       "      <td>5.034791</td>\n",
       "      <td>cassava</td>\n",
       "    </tr>\n",
       "  </tbody>\n",
       "</table>\n",
       "</div>"
      ],
      "text/plain": [
       "   Field_ID  Elevation  Rainfall  Min_temperature_C  Max_temperature_C  \\\n",
       "0      1162  494.95615    1507.6               -5.4               31.0   \n",
       "1      5108  663.73390     581.0               -4.7               30.9   \n",
       "2      3504  396.87990    1715.1               -6.1               31.7   \n",
       "3      5351  594.80370    1748.0               -4.3               33.6   \n",
       "4       905  609.49800    1395.8               -4.5               31.3   \n",
       "\n",
       "         pH  Pollution_level  Plot_size  Annual_yield Crop_type  \n",
       "0  6.859436         0.007034        3.6      1.617421    coffee  \n",
       "1  5.603219         0.289643        4.2      2.532497    potato  \n",
       "2  5.774116         0.000409        2.6      1.262207    banana  \n",
       "3  6.477415         0.088777        7.9      4.351564     wheat  \n",
       "4  5.419586         0.050023       10.8      5.034791   cassava  "
      ]
     },
     "execution_count": 48,
     "metadata": {},
     "output_type": "execute_result"
    }
   ],
   "source": [
    " Agrics_df.head()"
   ]
  },
  {
   "cell_type": "code",
   "execution_count": 49,
   "id": "2f22f318-d4f2-4c2e-8358-96577747012a",
   "metadata": {
    "tags": []
   },
   "outputs": [
    {
     "name": "stdout",
     "output_type": "stream",
     "text": [
      "1731.9\n"
     ]
    }
   ],
   "source": [
    "# Total plot size for plots where the pH is less than 5.5.\n",
    "\n",
    "\n",
    "plot_size = Agrics_df[Agrics_df['pH'] < 5.5]  # Filter the dataframe for rows where pH is < 5.5\n",
    "\n",
    "total_plot_size_by_pH = plot_size.groupby('pH')['Plot_size'].sum() # Grouping by pH and total plot size\n",
    "\n",
    "\n",
    "# Total plot size by pH\n",
    "\n",
    "print (total_plot_size_by_pH.sum()) "
   ]
  },
  {
   "cell_type": "code",
   "execution_count": 50,
   "id": "e6da8082-e217-491c-b47b-2ae869d2c44a",
   "metadata": {
    "tags": []
   },
   "outputs": [
    {
     "data": {
      "text/html": [
       "<div>\n",
       "<style scoped>\n",
       "    .dataframe tbody tr th:only-of-type {\n",
       "        vertical-align: middle;\n",
       "    }\n",
       "\n",
       "    .dataframe tbody tr th {\n",
       "        vertical-align: top;\n",
       "    }\n",
       "\n",
       "    .dataframe thead th {\n",
       "        text-align: right;\n",
       "    }\n",
       "</style>\n",
       "<table border=\"1\" class=\"dataframe\">\n",
       "  <thead>\n",
       "    <tr style=\"text-align: right;\">\n",
       "      <th></th>\n",
       "      <th>Field_ID</th>\n",
       "      <th>Elevation</th>\n",
       "      <th>Rainfall</th>\n",
       "      <th>Min_temperature_C</th>\n",
       "      <th>Max_temperature_C</th>\n",
       "      <th>pH</th>\n",
       "      <th>Pollution_level</th>\n",
       "      <th>Plot_size</th>\n",
       "      <th>Annual_yield</th>\n",
       "      <th>Crop_type</th>\n",
       "    </tr>\n",
       "  </thead>\n",
       "  <tbody>\n",
       "    <tr>\n",
       "      <th>0</th>\n",
       "      <td>1162</td>\n",
       "      <td>494.95615</td>\n",
       "      <td>1507.6</td>\n",
       "      <td>-5.4</td>\n",
       "      <td>31.0</td>\n",
       "      <td>6.859436</td>\n",
       "      <td>0.007034</td>\n",
       "      <td>3.6</td>\n",
       "      <td>1.617421</td>\n",
       "      <td>coffee</td>\n",
       "    </tr>\n",
       "    <tr>\n",
       "      <th>1</th>\n",
       "      <td>5108</td>\n",
       "      <td>663.73390</td>\n",
       "      <td>581.0</td>\n",
       "      <td>-4.7</td>\n",
       "      <td>30.9</td>\n",
       "      <td>5.603219</td>\n",
       "      <td>0.289643</td>\n",
       "      <td>4.2</td>\n",
       "      <td>2.532497</td>\n",
       "      <td>potato</td>\n",
       "    </tr>\n",
       "    <tr>\n",
       "      <th>2</th>\n",
       "      <td>3504</td>\n",
       "      <td>396.87990</td>\n",
       "      <td>1715.1</td>\n",
       "      <td>-6.1</td>\n",
       "      <td>31.7</td>\n",
       "      <td>5.774116</td>\n",
       "      <td>0.000409</td>\n",
       "      <td>2.6</td>\n",
       "      <td>1.262207</td>\n",
       "      <td>banana</td>\n",
       "    </tr>\n",
       "    <tr>\n",
       "      <th>3</th>\n",
       "      <td>5351</td>\n",
       "      <td>594.80370</td>\n",
       "      <td>1748.0</td>\n",
       "      <td>-4.3</td>\n",
       "      <td>33.6</td>\n",
       "      <td>6.477415</td>\n",
       "      <td>0.088777</td>\n",
       "      <td>7.9</td>\n",
       "      <td>4.351564</td>\n",
       "      <td>wheat</td>\n",
       "    </tr>\n",
       "    <tr>\n",
       "      <th>4</th>\n",
       "      <td>905</td>\n",
       "      <td>609.49800</td>\n",
       "      <td>1395.8</td>\n",
       "      <td>-4.5</td>\n",
       "      <td>31.3</td>\n",
       "      <td>5.419586</td>\n",
       "      <td>0.050023</td>\n",
       "      <td>10.8</td>\n",
       "      <td>5.034791</td>\n",
       "      <td>cassava</td>\n",
       "    </tr>\n",
       "  </tbody>\n",
       "</table>\n",
       "</div>"
      ],
      "text/plain": [
       "   Field_ID  Elevation  Rainfall  Min_temperature_C  Max_temperature_C  \\\n",
       "0      1162  494.95615    1507.6               -5.4               31.0   \n",
       "1      5108  663.73390     581.0               -4.7               30.9   \n",
       "2      3504  396.87990    1715.1               -6.1               31.7   \n",
       "3      5351  594.80370    1748.0               -4.3               33.6   \n",
       "4       905  609.49800    1395.8               -4.5               31.3   \n",
       "\n",
       "         pH  Pollution_level  Plot_size  Annual_yield Crop_type  \n",
       "0  6.859436         0.007034        3.6      1.617421    coffee  \n",
       "1  5.603219         0.289643        4.2      2.532497    potato  \n",
       "2  5.774116         0.000409        2.6      1.262207    banana  \n",
       "3  6.477415         0.088777        7.9      4.351564     wheat  \n",
       "4  5.419586         0.050023       10.8      5.034791   cassava  "
      ]
     },
     "execution_count": 50,
     "metadata": {},
     "output_type": "execute_result"
    }
   ],
   "source": [
    "Agrics_df.head()"
   ]
  },
  {
   "cell_type": "code",
   "execution_count": 51,
   "id": "6f435448-14e7-494f-8a04-0c4e9660eac1",
   "metadata": {
    "tags": []
   },
   "outputs": [
    {
     "data": {
      "text/plain": [
       "(319, 10)"
      ]
     },
     "execution_count": 51,
     "metadata": {},
     "output_type": "execute_result"
    }
   ],
   "source": [
    "# Create a dataframe that includes entries with a 'Min_temperature_C’< -5 and a 'Max_temperature_C' > 30.\n",
    "\n",
    "# Filter the data frame for rows where Min_temperature_C’< -5 and a 'Max_temperature_C' > 30.\n",
    "\n",
    "temp_df = Agrics_df [ (Agrics_df ['Min_temperature_C'] < -5) & (Agrics_df ['Max_temperature_C']> 30)] \n",
    "\n",
    "temp_df.shape"
   ]
  },
  {
   "cell_type": "code",
   "execution_count": 52,
   "id": "a76c4467-d4c3-4b0d-88c6-27d4f4d1c719",
   "metadata": {
    "tags": []
   },
   "outputs": [
    {
     "name": "stdout",
     "output_type": "stream",
     "text": [
      "Standard deviation of rainfall for plots larger than median size: 469.62\n"
     ]
    }
   ],
   "source": [
    "\n",
    "# Convert data to NumPy arrays\n",
    "plot_size = np.array(Agrics_df['Plot_size'])\n",
    "rainfall = np.array(Agrics_df['Rainfall'])\n",
    "\n",
    "# Calculate median plot size\n",
    "median_size = np.median(plot_size)\n",
    "\n",
    "# Filter data for plots with size larger than median\n",
    "large_plots = plot_size > median_size\n",
    "filtered_rainfall = rainfall[large_plots]\n",
    "\n",
    "# Calculate standard deviation of rainfall (rounded to 2 decimals)\n",
    "std_dev = np.std(filtered_rainfall)\n",
    "rounded_std_dev = round(std_dev, 2)\n",
    "\n",
    "# Print the standard deviation\n",
    "print(f\"Standard deviation of rainfall for plots larger than median size: {rounded_std_dev}\")\n"
   ]
  },
  {
   "cell_type": "code",
   "execution_count": 53,
   "id": "a191a0c0-4673-4107-8cbe-896a7c209856",
   "metadata": {
    "tags": []
   },
   "outputs": [
    {
     "name": "stdout",
     "output_type": "stream",
     "text": [
      "Concatenated String: 30ice\n"
     ]
    }
   ],
   "source": [
    "# Concatenate the first three digits of the most common ‘Max_temperature_C’ with the last three letters of the least common 'Crop_type'\n",
    "most_common_max_temp = int(Agrics_df['Max_temperature_C'].mode()[0])  # Using int() to ensure we get digits\n",
    "least_common_crop = Agrics_df['Crop_type'].value_counts().idxmin()\n",
    "\n",
    "# Convert to strings and extract required parts\n",
    "first_three_max_temp = str(most_common_max_temp)[:3]\n",
    "last_three_crop = least_common_crop[-3:]\n",
    "\n",
    "# Concatenate\n",
    "result_string = first_three_max_temp + last_three_crop\n",
    "\n",
    "print(f\"Concatenated String: {result_string}\")"
   ]
  },
  {
   "cell_type": "code",
   "execution_count": 54,
   "id": "eb7c995b-0725-458b-ab1f-84772e345b43",
   "metadata": {
    "tags": []
   },
   "outputs": [
    {
     "data": {
      "image/png": "[encoded data removed]",
      "text/plain": [
       "<Figure size 640x480 with 1 Axes>"
      ]
     },
     "metadata": {},
     "output_type": "display_data"
    }
   ],
   "source": [
    "# Importing seaborn and matplotlib packages\n",
    "\n",
    "import seaborn as sns\n",
    "import matplotlib.pyplot as plt\n",
    "\n",
    "# Sample data (replace with your actual data)\n",
    "data = {'Elevation': [150, 420, 780, 250, 510, 180, 390, 850, 220, 630],\n",
    "        'Annual_yield': [35, 72, 88, 28, 65, 40, 58, 95, 32, 78]}\n",
    "\n",
    "# Convert data to a Pandas DataFrame\n",
    "df = pd.DataFrame(data)\n",
    "\n",
    "# Define elevation range categories\n",
    "def categorize_elevation(elevation):\n",
    "  if elevation < 300:\n",
    "    return \"Low\"\n",
    "  elif elevation < 600:\n",
    "    return \"Medium\"\n",
    "  else:\n",
    "    return \"High\"\n",
    "\n",
    "# Create a new 'Elevation_category' column based on the function\n",
    "df['Elevation_category'] = df['Elevation'].apply(categorize_elevation)\n",
    "\n",
    "# Create the violin plot\n",
    "sns.violinplot(\n",
    "    x = \"Elevation_category\",\n",
    "    y = \"Annual_yield\",\n",
    "    showmeans=True,  # Show mean as a point on the violin\n",
    "    data=df\n",
    ")\n",
    "\n",
    "# Customize the plot (optional)\n",
    "plt.xlabel(\"Elevation Range\")\n",
    "plt.ylabel(\"Annual Yield\")\n",
    "plt.title(\"Distribution of Annual Yield Across Elevation Ranges\")\n",
    "plt.xticks(rotation=45)  # Rotate x-axis labels for better readability\n",
    "plt.tight_layout()\n",
    "plt.show()\n"
   ]
  },
  {
   "cell_type": "code",
   "execution_count": 56,
   "id": "79c4ed04-ebe5-46bc-a4a0-89c96c1a1259",
   "metadata": {
    "tags": []
   },
   "outputs": [
    {
     "name": "stdout",
     "output_type": "stream",
     "text": [
      "The total sum of the lengths of unique crop types: 42\n"
     ]
    }
   ],
   "source": [
    "# A recursive function to sum the integer values for each unique crop type in the dataset\n",
    "\n",
    "\n",
    "def sum_crop_lengths(Crop_types):\n",
    "    if not Crop_types:  # If the list is empty\n",
    "        return 0\n",
    "    else:\n",
    "        return len(Crop_types[0]) + sum_crop_lengths(Crop_types[1:])\n",
    "\n",
    "# Assuming 'Crop_type' column exists in your DataFrame\n",
    "unique_crop_types = Agrics_df['Crop_type'].unique()\n",
    "total_length = sum_crop_lengths(list(unique_crop_types))\n",
    "print(f\"The total sum of the lengths of unique crop types: {total_length}\")\n"
   ]
  },
  {
   "cell_type": "code",
   "execution_count": 57,
   "id": "8caf3968-a5fb-4d1c-97cc-1d2f3d6bbf8d",
   "metadata": {
    "tags": []
   },
   "outputs": [
    {
     "name": "stdout",
     "output_type": "stream",
     "text": [
      "['coffee' 'potato' 'banana' 'wheat' 'cassava' 'maize' 'tea' 'rice']\n"
     ]
    }
   ],
   "source": [
    "# Checks for unique crop types\n",
    "\n",
    "unique_crop_type = Agrics_df['Crop_type'].unique()\n",
    "\n",
    "print (unique_crop_type)"
   ]
  },
  {
   "cell_type": "code",
   "execution_count": 59,
   "id": "81602135-b641-4674-bf21-b9bc81cdab7e",
   "metadata": {
    "tags": []
   },
   "outputs": [
    {
     "name": "stdout",
     "output_type": "stream",
     "text": [
      "The total sum of the lengths of unique crop types: 42\n"
     ]
    }
   ],
   "source": [
    "# A recursive function to sum the integer values for each unique crop type in the dataset\n",
    "\n",
    "\n",
    "import pandas as pd     # Import packages\n",
    "\n",
    "\n",
    "# Improved function definition\n",
    "def sum_crop_lengths(crop_types):\n",
    "    if not crop_types:  # If the list is empty\n",
    "        return 0\n",
    "    else:\n",
    "        return len(crop_types[0]) + sum_crop_lengths(crop_types[1:])\n",
    "\n",
    "# Check if 'Agrics_df' is a DataFrame and 'Crop_type' is a column\n",
    "if isinstance(Agrics_df, pd.DataFrame) and 'Crop_type' in Agrics_df.columns:\n",
    "    unique_crop_types = Agrics_df['Crop_type'].unique()\n",
    "    total_length = sum_crop_lengths(list(unique_crop_types))\n",
    "    print(f\"The total sum of the lengths of unique crop types: {total_length}\")\n",
    "else:\n",
    "    print(\"Error: 'Agrics_df' is not a DataFrame or 'Crop_type' is not a column.\")\n"
   ]
  },
  {
   "cell_type": "code",
   "execution_count": 61,
   "id": "57cf4a0c-3a24-49d5-9d10-2f4926c60313",
   "metadata": {
    "tags": []
   },
   "outputs": [
    {
     "name": "stdout",
     "output_type": "stream",
     "text": [
      "P-value: 0.598\n"
     ]
    }
   ],
   "source": [
    "import pandas as pd\n",
    "from scipy import stats\n",
    "\n",
    "# Assuming 'Agrics_df' is your DataFrame and it contains correctly named 'Annual_yield' and 'Crop_type' columns\n",
    "\n",
    "# Extract the Annual yields for coffee and banana\n",
    "coffee_yields = Agrics_df[Agrics_df['Crop_type'] == 'coffee']['Annual_yield']\n",
    "banana_yields = Agrics_df[Agrics_df['Crop_type'] == 'banana']['Annual_yield']\n",
    "\n",
    "# Perform the t-test\n",
    "t_stat, p_value = stats.ttest_ind(coffee_yields, banana_yields, equal_var=False)  # Assuming unequal variances\n",
    "\n",
    "# Print the p-value rounded to three decimal places\n",
    "print(f\"P-value: {p_value:.3f}\")\n"
   ]
  }
 ],
 "metadata": {
  "kernelspec": {
   "display_name": "Python 3 (ipykernel)",
   "language": "python",
   "name": "python3"
  },
  "language_info": {
   "codemirror_mode": {
    "name": "ipython",
    "version": 3
   },
   "file_extension": ".py",
   "mimetype": "text/x-python",
   "name": "python",
   "nbconvert_exporter": "python",
   "pygments_lexer": "ipython3",
   "version": "3.11.5"
  }
 },
 "nbformat": 4,
 "nbformat_minor": 5
}
